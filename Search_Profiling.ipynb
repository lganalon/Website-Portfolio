{
  "nbformat": 4,
  "nbformat_minor": 0,
  "metadata": {
    "colab": {
      "provenance": [],
      "authorship_tag": "ABX9TyM7wt41YnUn0IjWXv5/sSh0",
      "include_colab_link": true
    },
    "kernelspec": {
      "name": "python3",
      "display_name": "Python 3"
    },
    "language_info": {
      "name": "python"
    }
  },
  "cells": [
    {
      "cell_type": "markdown",
      "metadata": {
        "id": "view-in-github",
        "colab_type": "text"
      },
      "source": [
        "<a href=\"https://colab.research.google.com/github/lganalon/Website-Portfolio/blob/main/Search_Profiling.ipynb\" target=\"_parent\"><img src=\"https://colab.research.google.com/assets/colab-badge.svg\" alt=\"Open In Colab\"/></a>"
      ]
    },
    {
      "cell_type": "code",
      "execution_count": 1,
      "metadata": {
        "id": "hUg6BQpteKHY"
      },
      "outputs": [],
      "source": [
        "import numpy as np\n",
        "from bisect import bisect_left\n",
        "import copy\n",
        "\n",
        "# Generating a large matrix of random numbers\n",
        "np.random.seed(0)  # For reproducibility\n",
        "matrix = np.random.randint(0, 10000, (1000, 1000))\n",
        "target = np.random.randint(0, 10000)  # Random target to search for\n",
        "\n",
        "# Algorithm 1: Sort the matrix, Jump Search followed by Binary Search\n",
        "def algorithm_1(matrix, target):\n",
        "    # Work on a copy of the matrix\n",
        "    matrix_copy = np.sort(matrix.copy(), axis=1)\n",
        "    # Jump search through the first elements of each row\n",
        "    n = len(matrix_copy)\n",
        "    step = int(np.sqrt(n))\n",
        "    prev = 0\n",
        "    while matrix_copy[min(step, n) - 1][0] < target:\n",
        "        prev = step\n",
        "        step += int(np.sqrt(n))\n",
        "        if prev >= n:\n",
        "            return -1\n",
        "    # Binary search in the identified block\n",
        "    for row in matrix_copy[prev:min(step, n)]:\n",
        "        index = binary_search(row, target)\n",
        "        if index != -1:\n",
        "            return index\n",
        "    return -1\n",
        "\n",
        "def binary_search(arr, target):\n",
        "    idx = bisect_left(arr, target)\n",
        "    if idx != len(arr) and arr[idx] == target:\n",
        "        return idx\n",
        "    return -1\n",
        "\n",
        "# Algorithm 2: Sort the matrix, Ternary Search\n",
        "def ternary_search(arr, left, right, target):\n",
        "    if right >= left:\n",
        "        mid1 = left + (right - left) // 3\n",
        "        mid2 = right - (right - left) // 3\n",
        "        if arr[mid1] == target:\n",
        "            return mid1\n",
        "        if arr[mid2] == target:\n",
        "            return mid2\n",
        "        if target < arr[mid1]:\n",
        "            return ternary_search(arr, left, mid1 - 1, target)\n",
        "        elif target > arr[mid2]:\n",
        "            return ternary_search(arr, mid2 + 1, right, target)\n",
        "        else:\n",
        "            return ternary_search(arr, mid1 + 1, mid2 - 1, target)\n",
        "    return -1\n",
        "\n",
        "def algorithm_2(matrix, target):\n",
        "    # Work on a copy of the matrix\n",
        "    matrix_copy = np.sort(matrix.copy(), axis=1)\n",
        "    for row in matrix_copy:\n",
        "        index = ternary_search(row, 0, len(row) - 1, target)\n",
        "        if index != -1:\n",
        "            return index\n",
        "    return -1\n",
        "\n",
        "# Algorithm 3: Sort the matrix, Interpolation Search\n",
        "def interpolation_search(arr, left, right, target):\n",
        "    while left <= right and target >= arr[left] and target <= arr[right]:\n",
        "        if left == right:\n",
        "            if arr[left] == target:\n",
        "                return left\n",
        "            return -1\n",
        "        pos = left + ((right - left) // (arr[right] - arr[left]) * (target - arr[left]))\n",
        "        if arr[pos] == target:\n",
        "            return pos\n",
        "        if arr[pos] < target:\n",
        "            left = pos + 1\n",
        "        else:\n",
        "            right = pos - 1\n",
        "    return -1\n",
        "\n",
        "def algorithm_3(matrix, target):\n",
        "    # Work on a copy of the matrix\n",
        "    matrix_copy = np.sort(matrix.copy(), axis=1)\n",
        "    for row in matrix_copy:\n",
        "        index = interpolation_search(row, 0, len(row) - 1, target)\n",
        "        if index != -1:\n",
        "            return index\n",
        "    return -1\n",
        "\n"
      ]
    },
    {
      "cell_type": "code",
      "source": [
        "import timeit\n",
        "\n",
        "# Timeit for Algorithm 1\n",
        "time_algorithm_1 = timeit.timeit(lambda: algorithm_1(matrix, target), number=10)\n",
        "# Timeit for Algorithm 2\n",
        "time_algorithm_2 = timeit.timeit(lambda: algorithm_2(matrix, target), number=10)\n",
        "# Timeit for Algorithm 3\n",
        "time_algorithm_3 = timeit.timeit(lambda: algorithm_3(matrix, target), number=10)\n",
        "\n",
        "# Print the results\n",
        "print(f\"Algorithm 1 (Jump + Binary Search) Time: {time_algorithm_1}\")\n",
        "print(f\"Algorithm 2 (Ternary Search) Time: {time_algorithm_2}\")\n",
        "print(f\"Algorithm 3 (Interpolation Search) Time: {time_algorithm_3}\")\n",
        "\n"
      ],
      "metadata": {
        "id": "i1o3lNI9gIg9",
        "colab": {
          "base_uri": "https://localhost:8080/"
        },
        "outputId": "47a3bfc0-9d0e-40a0-90fc-227abd2e9155"
      },
      "execution_count": 2,
      "outputs": [
        {
          "output_type": "stream",
          "name": "stdout",
          "text": [
            "Algorithm 1 (Jump + Binary Search) Time: 0.8838341360000044\n",
            "Algorithm 2 (Ternary Search) Time: 1.4910890709999904\n",
            "Algorithm 3 (Interpolation Search) Time: 1.5751884290000078\n"
          ]
        }
      ]
    },
    {
      "cell_type": "code",
      "source": [
        "#!pip install psutil memory-profiler"
      ],
      "metadata": {
        "colab": {
          "base_uri": "https://localhost:8080/"
        },
        "id": "HGYD3uw0OZqP",
        "outputId": "9cacca24-ec9c-40e6-87b7-caa7356fda53"
      },
      "execution_count": 12,
      "outputs": [
        {
          "output_type": "stream",
          "name": "stdout",
          "text": [
            "Requirement already satisfied: psutil in /usr/local/lib/python3.10/dist-packages (5.9.5)\n",
            "Requirement already satisfied: memory-profiler in /usr/local/lib/python3.10/dist-packages (0.61.0)\n"
          ]
        }
      ]
    },
    {
      "cell_type": "code",
      "source": [
        "from memory_profiler import memory_usage\n",
        "\n",
        "# Manual memory profiling for Algorithm 1\n",
        "def run_algorithm_1():\n",
        "    return algorithm_1(matrix, target)\n",
        "\n",
        "mem_usage_1 = memory_usage((run_algorithm_1,))  # Memory usage in MiB\n",
        "print(f\"Memory usage for Algorithm 1: {max(mem_usage_1)} MiB\")\n",
        "\n",
        "# Manual memory profiling for Algorithm 2\n",
        "def run_algorithm_2():\n",
        "    return algorithm_2(matrix, target)\n",
        "\n",
        "mem_usage_2 = memory_usage((run_algorithm_2,))\n",
        "print(f\"Memory usage for Algorithm 2: {max(mem_usage_2)} MiB\")\n",
        "\n",
        "# Manual memory profiling for Algorithm 3\n",
        "def run_algorithm_3():\n",
        "    return algorithm_3(matrix, target)\n",
        "\n",
        "mem_usage_3 = memory_usage((run_algorithm_3,))\n",
        "print(f\"Memory usage for Algorithm 3: {max(mem_usage_3)} MiB\")\n",
        "\n",
        "\n"
      ],
      "metadata": {
        "colab": {
          "base_uri": "https://localhost:8080/"
        },
        "id": "AS6TNvqpgKYa",
        "outputId": "019d60f2-429e-4a84-df41-4c5c9532cb03"
      },
      "execution_count": 13,
      "outputs": [
        {
          "output_type": "stream",
          "name": "stdout",
          "text": [
            "Memory usage for Algorithm 1: 121.71484375 MiB\n",
            "Memory usage for Algorithm 2: 121.68359375 MiB\n",
            "Memory usage for Algorithm 3: 121.8984375 MiB\n"
          ]
        }
      ]
    },
    {
      "cell_type": "code",
      "source": [
        "#pip install pyinstrument"
      ],
      "metadata": {
        "colab": {
          "base_uri": "https://localhost:8080/"
        },
        "id": "7OUhicVqOjhk",
        "outputId": "e47b0a52-2b2c-483a-ad58-ea89e757dc88"
      },
      "execution_count": 9,
      "outputs": [
        {
          "output_type": "stream",
          "name": "stdout",
          "text": [
            "Collecting pyinstrument\n",
            "  Downloading pyinstrument-4.7.3-cp310-cp310-manylinux_2_17_x86_64.manylinux2014_x86_64.whl.metadata (24 kB)\n",
            "Downloading pyinstrument-4.7.3-cp310-cp310-manylinux_2_17_x86_64.manylinux2014_x86_64.whl (127 kB)\n",
            "\u001b[2K   \u001b[90m━━━━━━━━━━━━━━━━━━━━━━━━━━━━━━━━━━━━━━━━\u001b[0m \u001b[32m127.2/127.2 kB\u001b[0m \u001b[31m7.9 MB/s\u001b[0m eta \u001b[36m0:00:00\u001b[0m\n",
            "\u001b[?25hInstalling collected packages: pyinstrument\n",
            "Successfully installed pyinstrument-4.7.3\n"
          ]
        }
      ]
    },
    {
      "cell_type": "code",
      "source": [
        "from pyinstrument import Profiler\n",
        "\n",
        "# PyInstrument for Algorithm 1\n",
        "profiler = Profiler()\n",
        "profiler.start()\n",
        "algorithm_1(matrix, target)\n",
        "profiler.stop()\n",
        "print(\"Algorithm 1 Profile:\\n\", profiler.output_text())\n",
        "\n",
        "# PyInstrument for Algorithm 2\n",
        "profiler.start()\n",
        "algorithm_2(matrix, target)\n",
        "profiler.stop()\n",
        "print(\"Algorithm 2 Profile:\\n\", profiler.output_text())\n",
        "\n",
        "# PyInstrument for Algorithm 3\n",
        "profiler.start()\n",
        "algorithm_3(matrix, target)\n",
        "profiler.stop()\n",
        "print(\"Algorithm 3 Profile:\\n\", profiler.output_text())\n",
        "\n"
      ],
      "metadata": {
        "colab": {
          "base_uri": "https://localhost:8080/"
        },
        "id": "rzHgR9vyh5RZ",
        "outputId": "8ad76d39-7da4-41c8-fb43-2b1e0987ffc8"
      },
      "execution_count": 10,
      "outputs": [
        {
          "output_type": "stream",
          "name": "stdout",
          "text": [
            "Algorithm 1 Profile:\n",
            " \n",
            "  _     ._   __/__   _ _  _  _ _/_   Recorded: 05:32:24  Samples:  5\n",
            " /_//_/// /_\\ / //_// / //_'/ //     Duration: 0.062     CPU time: 0.061\n",
            "/   _/                      v4.7.3\n",
            "\n",
            "Profile at <ipython-input-10-7d811d902d25>:5\n",
            "\n",
            "0.061 Shell.run_code  IPython/core/interactiveshell.py:3512\n",
            "`- 0.061 <cell line: 6>  <ipython-input-10-7d811d902d25>:1\n",
            "   `- 0.061 algorithm_1  <ipython-input-1-0f9ffb8fc3c5>:11\n",
            "      |- 0.056 sort  numpy/core/fromnumeric.py:865\n",
            "      |     [1 frames hidden]  <built-in>\n",
            "      |        0.053 ndarray.sort  <built-in>\n",
            "      `- 0.005 ndarray.copy  <built-in>\n",
            "\n",
            "\n",
            "Algorithm 2 Profile:\n",
            " \n",
            "  _     ._   __/__   _ _  _  _ _/_   Recorded: 05:32:24  Samples:  10\n",
            " /_//_/// /_\\ / //_// / //_'/ //     Duration: 0.120     CPU time: 0.121\n",
            "/   _/                      v4.7.3\n",
            "\n",
            "Profile at <ipython-input-10-7d811d902d25>:5\n",
            "\n",
            "0.119 Shell.run_ast_nodes  IPython/core/interactiveshell.py:3360\n",
            "|- 0.061 <cell line: 6>  <ipython-input-10-7d811d902d25>:1\n",
            "|  `- 0.061 algorithm_1  <ipython-input-1-0f9ffb8fc3c5>:11\n",
            "|     |- 0.056 sort  numpy/core/fromnumeric.py:865\n",
            "|     |     [1 frames hidden]  <built-in>\n",
            "|     |        0.053 ndarray.sort  <built-in>\n",
            "|     `- 0.005 ndarray.copy  <built-in>\n",
            "`- 0.057 <cell line: 12>  <ipython-input-10-7d811d902d25>:1\n",
            "   `- 0.057 algorithm_2  <ipython-input-1-0f9ffb8fc3c5>:53\n",
            "      |- 0.053 sort  numpy/core/fromnumeric.py:865\n",
            "      |     [1 frames hidden]  <built-in>\n",
            "      |        0.048 ndarray.sort  <built-in>\n",
            "      `- 0.004 ndarray.copy  <built-in>\n",
            "\n",
            "\n",
            "Algorithm 3 Profile:\n",
            " \n",
            "  _     ._   __/__   _ _  _  _ _/_   Recorded: 05:32:24  Samples:  20\n",
            " /_//_/// /_\\ / //_// / //_'/ //     Duration: 0.188     CPU time: 0.187\n",
            "/   _/                      v4.7.3\n",
            "\n",
            "Profile at <ipython-input-10-7d811d902d25>:5\n",
            "\n",
            "0.186 Shell.run_ast_nodes  IPython/core/interactiveshell.py:3360\n",
            "|- 0.066 <cell line: 18>  <ipython-input-10-7d811d902d25>:1\n",
            "|  `- 0.066 algorithm_3  <ipython-input-1-0f9ffb8fc3c5>:78\n",
            "|     |- 0.057 sort  numpy/core/fromnumeric.py:865\n",
            "|     |     [1 frames hidden]  <built-in>\n",
            "|     |        0.053 ndarray.sort  <built-in>\n",
            "|     |- 0.005 interpolation_search  <ipython-input-1-0f9ffb8fc3c5>:63\n",
            "|     `- 0.005 ndarray.copy  <built-in>\n",
            "|- 0.061 <cell line: 6>  <ipython-input-10-7d811d902d25>:1\n",
            "|  `- 0.061 algorithm_1  <ipython-input-1-0f9ffb8fc3c5>:11\n",
            "|     |- 0.056 sort  numpy/core/fromnumeric.py:865\n",
            "|     |     [1 frames hidden]  <built-in>\n",
            "|     |        0.053 ndarray.sort  <built-in>\n",
            "|     `- 0.005 ndarray.copy  <built-in>\n",
            "`- 0.057 <cell line: 12>  <ipython-input-10-7d811d902d25>:1\n",
            "   `- 0.057 algorithm_2  <ipython-input-1-0f9ffb8fc3c5>:53\n",
            "      |- 0.053 sort  numpy/core/fromnumeric.py:865\n",
            "      |     [1 frames hidden]  <built-in>\n",
            "      |        0.048 ndarray.sort  <built-in>\n",
            "      `- 0.004 ndarray.copy  <built-in>\n",
            "\n",
            "\n"
          ]
        }
      ]
    },
    {
      "cell_type": "code",
      "source": [
        "import cProfile\n",
        "\n",
        "# cProfile for Algorithm 1\n",
        "cProfile.run('algorithm_1(matrix, target)')\n",
        "\n",
        "# cProfile for Algorithm 2\n",
        "cProfile.run('algorithm_2(matrix, target)')\n",
        "\n",
        "# cProfile for Algorithm 3\n",
        "cProfile.run('algorithm_3(matrix, target)')\n"
      ],
      "metadata": {
        "colab": {
          "base_uri": "https://localhost:8080/"
        },
        "id": "he511rsYOF0u",
        "outputId": "406b6074-72a6-4e1e-de18-fceee5ed3fb0"
      },
      "execution_count": 11,
      "outputs": [
        {
          "output_type": "stream",
          "name": "stdout",
          "text": [
            "         44 function calls in 0.065 seconds\n",
            "\n",
            "   Ordered by: standard name\n",
            "\n",
            "   ncalls  tottime  percall  cumtime  percall filename:lineno(function)\n",
            "        1    0.000    0.000    0.065    0.065 <ipython-input-1-0f9ffb8fc3c5>:11(algorithm_1)\n",
            "        1    0.000    0.000    0.065    0.065 <string>:1(<module>)\n",
            "        1    0.000    0.000    0.000    0.000 fromnumeric.py:861(_sort_dispatcher)\n",
            "        1    0.000    0.000    0.059    0.059 fromnumeric.py:865(sort)\n",
            "        1    0.000    0.000    0.065    0.065 {built-in method builtins.exec}\n",
            "        1    0.000    0.000    0.000    0.000 {built-in method builtins.len}\n",
            "       33    0.000    0.000    0.000    0.000 {built-in method builtins.min}\n",
            "        1    0.000    0.000    0.000    0.000 {built-in method numpy.asanyarray}\n",
            "        2    0.013    0.006    0.013    0.006 {method 'copy' of 'numpy.ndarray' objects}\n",
            "        1    0.000    0.000    0.000    0.000 {method 'disable' of '_lsprof.Profiler' objects}\n",
            "        1    0.052    0.052    0.052    0.052 {method 'sort' of 'numpy.ndarray' objects}\n",
            "\n",
            "\n",
            "         84 function calls (28 primitive calls) in 0.070 seconds\n",
            "\n",
            "   Ordered by: standard name\n",
            "\n",
            "   ncalls  tottime  percall  cumtime  percall filename:lineno(function)\n",
            "     65/9    0.000    0.000    0.000    0.000 <ipython-input-1-0f9ffb8fc3c5>:37(ternary_search)\n",
            "        1    0.000    0.000    0.070    0.070 <ipython-input-1-0f9ffb8fc3c5>:53(algorithm_2)\n",
            "        1    0.000    0.000    0.070    0.070 <string>:1(<module>)\n",
            "        1    0.000    0.000    0.000    0.000 fromnumeric.py:861(_sort_dispatcher)\n",
            "        1    0.000    0.000    0.051    0.051 fromnumeric.py:865(sort)\n",
            "        1    0.000    0.000    0.070    0.070 {built-in method builtins.exec}\n",
            "        9    0.000    0.000    0.000    0.000 {built-in method builtins.len}\n",
            "        1    0.000    0.000    0.000    0.000 {built-in method numpy.asanyarray}\n",
            "        2    0.022    0.011    0.022    0.011 {method 'copy' of 'numpy.ndarray' objects}\n",
            "        1    0.000    0.000    0.000    0.000 {method 'disable' of '_lsprof.Profiler' objects}\n",
            "        1    0.048    0.048    0.048    0.048 {method 'sort' of 'numpy.ndarray' objects}\n",
            "\n",
            "\n",
            "         28 function calls in 0.072 seconds\n",
            "\n",
            "   Ordered by: standard name\n",
            "\n",
            "   ncalls  tottime  percall  cumtime  percall filename:lineno(function)\n",
            "        9    0.005    0.001    0.005    0.001 <ipython-input-1-0f9ffb8fc3c5>:63(interpolation_search)\n",
            "        1    0.000    0.000    0.072    0.072 <ipython-input-1-0f9ffb8fc3c5>:78(algorithm_3)\n",
            "        1    0.000    0.000    0.072    0.072 <string>:1(<module>)\n",
            "        1    0.000    0.000    0.000    0.000 fromnumeric.py:861(_sort_dispatcher)\n",
            "        1    0.000    0.000    0.050    0.050 fromnumeric.py:865(sort)\n",
            "        1    0.000    0.000    0.072    0.072 {built-in method builtins.exec}\n",
            "        9    0.000    0.000    0.000    0.000 {built-in method builtins.len}\n",
            "        1    0.000    0.000    0.000    0.000 {built-in method numpy.asanyarray}\n",
            "        2    0.019    0.009    0.019    0.009 {method 'copy' of 'numpy.ndarray' objects}\n",
            "        1    0.000    0.000    0.000    0.000 {method 'disable' of '_lsprof.Profiler' objects}\n",
            "        1    0.049    0.049    0.049    0.049 {method 'sort' of 'numpy.ndarray' objects}\n",
            "\n",
            "\n"
          ]
        }
      ]
    }
  ]
}